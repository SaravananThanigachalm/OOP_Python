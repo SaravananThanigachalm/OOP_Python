{
 "metadata": {
  "language_info": {
   "codemirror_mode": {
    "name": "ipython",
    "version": 3
   },
   "file_extension": ".py",
   "mimetype": "text/x-python",
   "name": "python",
   "nbconvert_exporter": "python",
   "pygments_lexer": "ipython3",
   "version": "3.8.3-final"
  },
  "orig_nbformat": 2,
  "kernelspec": {
   "name": "python_defaultSpec_1597683617898",
   "display_name": "Python 3.8.3 32-bit"
  }
 },
 "nbformat": 4,
 "nbformat_minor": 2,
 "cells": [
  {
   "cell_type": "markdown",
   "metadata": {},
   "source": [
    "# Object Oriented Programming (OOP) Python"
   ]
  },
  {
   "cell_type": "markdown",
   "metadata": {},
   "source": [
    "## Classes\n",
    "### Classes are blue prints of how the objects are built or defined\n",
    "\n",
    "## Objects\n",
    "### Objects are instances of classes\n",
    "\n",
    "## Attributes\n",
    "### Attributes are the data that are stored inside a class or instance"
   ]
  },
  {
   "cell_type": "code",
   "execution_count": 1,
   "metadata": {},
   "outputs": [],
   "source": [
    "class Dog:  ##< Defining class >##\n",
    "    pass    ##< Empty class >##"
   ]
  },
  {
   "cell_type": "code",
   "execution_count": 2,
   "metadata": {},
   "outputs": [],
   "source": [
    "class Cats:\n",
    "    def __init__(self, name, age):  \n",
    "##< Self represents the instance of the class. It is used to access attributes and methods >##\n",
    "##< __init__() is a reserved method for creating objects from class and it allows the class to initialize the attributes of the class >##\n",
    "        self.name = name\n",
    "##< self.name creates an attribute name and it assigns the attribute(i.e name) the value of \"name\" specified by the user >##\n",
    "        self.age = age\n",
    "##< Attributes created in init method are called as instances attribute >##\n"
   ]
  },
  {
   "cell_type": "markdown",
   "metadata": {},
   "source": [
    "### Instance Attributes - Instance attribute’s value is specific to a particular instance of the class.\n",
    "### Class Attributes - class attributes are attributes that have the same value for all class instances. "
   ]
  },
  {
   "cell_type": "code",
   "execution_count": 3,
   "metadata": {},
   "outputs": [],
   "source": [
    "class Cats:\n",
    "    species = \"Felis catus\" \n",
    "    ##< Defining Class attribute, they must be always assigned a initial value >##\n",
    "    def __init__(self, name, age):\n",
    "        self.name = name\n",
    "        self.age = age"
   ]
  },
  {
   "cell_type": "markdown",
   "metadata": {},
   "source": [
    "## Instantiating an object\n",
    "### Creating a new object from a class is called instantiating an object"
   ]
  },
  {
   "cell_type": "code",
   "execution_count": 4,
   "metadata": {
    "tags": []
   },
   "outputs": [
    {
     "output_type": "stream",
     "name": "stdout",
     "text": "<__main__.Cats object at 0x061BB760>\n"
    }
   ],
   "source": [
    "a = Cats(\"Mike\", 2) ##< First Cats object >##\n",
    "print(a)"
   ]
  },
  {
   "cell_type": "code",
   "execution_count": 5,
   "metadata": {
    "tags": []
   },
   "outputs": [
    {
     "output_type": "stream",
     "name": "stdout",
     "text": "<__main__.Cats object at 0x061BB220>\n"
    }
   ],
   "source": [
    "b = Cats(\"Beefer\", 3) ##< Second Cat object >##\n",
    "print(b)"
   ]
  },
  {
   "cell_type": "code",
   "execution_count": 6,
   "metadata": {},
   "outputs": [
    {
     "output_type": "execute_result",
     "data": {
      "text/plain": "False"
     },
     "metadata": {},
     "execution_count": 6
    }
   ],
   "source": [
    "a == b \n",
    "##< This returns False because all the created objects are entirely different and unique from each other >##"
   ]
  },
  {
   "cell_type": "code",
   "execution_count": 7,
   "metadata": {
    "tags": []
   },
   "outputs": [
    {
     "output_type": "stream",
     "name": "stdout",
     "text": "Mike\n2\nBeefer\n3\n"
    }
   ],
   "source": [
    "##< Accessing the created Instance attributed >##\n",
    "\n",
    "print(a.name)\n",
    "print(a.age)\n",
    "print(b.name)\n",
    "print(b.age)"
   ]
  },
  {
   "cell_type": "code",
   "execution_count": 8,
   "metadata": {
    "tags": []
   },
   "outputs": [
    {
     "output_type": "stream",
     "name": "stdout",
     "text": "Felis catus\nFelis catus\n"
    }
   ],
   "source": [
    "##< Accessing the created Class attributed >##\n",
    "\n",
    "print(a.species)\n",
    "print(b.species)"
   ]
  },
  {
   "cell_type": "markdown",
   "metadata": {},
   "source": [
    "## Dynamically changing the values of the attributes"
   ]
  },
  {
   "cell_type": "code",
   "execution_count": 9,
   "metadata": {},
   "outputs": [],
   "source": [
    "a.age = 5\n",
    "a.species = \"Felis silvestris\""
   ]
  },
  {
   "cell_type": "code",
   "execution_count": 10,
   "metadata": {
    "tags": []
   },
   "outputs": [
    {
     "output_type": "stream",
     "name": "stdout",
     "text": "Mike\n5\nFelis silvestris\n"
    }
   ],
   "source": [
    "print(a.name)\n",
    "print(a.age)\n",
    "print(a.species)"
   ]
  },
  {
   "cell_type": "markdown",
   "metadata": {},
   "source": [
    "## Instance Methods\n",
    "### Instance Methods are functions that are defined inside a class and can only be called from an instance of the class"
   ]
  },
  {
   "cell_type": "code",
   "execution_count": 11,
   "metadata": {},
   "outputs": [],
   "source": [
    "class Cats:\n",
    "    species = \"Felis catus\" \n",
    "    def __init__(self, name, age):\n",
    "        self.name = name\n",
    "        self.age = age\n",
    "    \n",
    "    def about(self):        ##< Declaring an Instance method >##\n",
    "        return F\"{self.name} is a cat of {self.age} years old\"\n",
    "\n",
    "    def speak(self, speech):    ##< Declaring another Instance method >##\n",
    "        return F\"{self.name} says {speech}\""
   ]
  },
  {
   "cell_type": "code",
   "execution_count": 12,
   "metadata": {},
   "outputs": [],
   "source": [
    "c = Cats(\"Roger\", 8)"
   ]
  },
  {
   "cell_type": "code",
   "execution_count": 13,
   "metadata": {},
   "outputs": [
    {
     "output_type": "execute_result",
     "data": {
      "text/plain": "'Roger is a cat of 8 years old'"
     },
     "metadata": {},
     "execution_count": 13
    }
   ],
   "source": [
    "c.about()"
   ]
  },
  {
   "cell_type": "code",
   "execution_count": 14,
   "metadata": {
    "tags": []
   },
   "outputs": [
    {
     "output_type": "stream",
     "name": "stdout",
     "text": "Roger says 'I want a Tuna Fish !!!'\n"
    }
   ],
   "source": [
    "print(c.speak(\"'I want a Tuna Fish !!!'\"))"
   ]
  },
  {
   "cell_type": "markdown",
   "metadata": {},
   "source": [
    "## Using the Dunder method for Displaying the about of the instance of the class"
   ]
  },
  {
   "cell_type": "code",
   "execution_count": 15,
   "metadata": {},
   "outputs": [],
   "source": [
    "class Cars:\n",
    "    def __init__(self, brand, model, year):\n",
    "        self.brand = brand\n",
    "        self.model = model\n",
    "        self.year = year\n",
    "    def __str__(self):      ##< This dunder method used to display info about of the instance >##\n",
    "        return F\" {self.model} is one of the car models manufactured by {self.brand} on the year {self.year} \""
   ]
  },
  {
   "cell_type": "code",
   "execution_count": 16,
   "metadata": {
    "tags": []
   },
   "outputs": [
    {
     "output_type": "stream",
     "name": "stdout",
     "text": "A8 is one of the car models manufactured by Audi on the year 2020 \n"
    }
   ],
   "source": [
    "a8 = Cars(\"Audi\", \"A8\", 2020)\n",
    "print(a8)"
   ]
  },
  {
   "cell_type": "markdown",
   "metadata": {},
   "source": [
    "## Inheritance\n",
    "### Inheritance is the process by which one class(Child class) takes on the attributes and methods of another(Parent class)"
   ]
  },
  {
   "cell_type": "code",
   "execution_count": 17,
   "metadata": {},
   "outputs": [],
   "source": [
    "class Cars:\n",
    "    def __init__(self, brand, model, year):\n",
    "        self.brand = brand\n",
    "        self.model = model\n",
    "        self.year = year\n",
    "    def __str__(self):      ##< This dunder method used to display info about of the instance >##\n",
    "        return F\" {self.model} is one of the car models manufactured by {self.brand} on the year {self.year} \"\n",
    "\n",
    "    def variant(self, varirant):\n",
    "        return F\" {self.model} is a {varirant} \""
   ]
  },
  {
   "cell_type": "code",
   "execution_count": 18,
   "metadata": {},
   "outputs": [
    {
     "output_type": "execute_result",
     "data": {
      "text/plain": "' A8 is a Sports Car '"
     },
     "metadata": {},
     "execution_count": 18
    }
   ],
   "source": [
    "a8 = Cars(\"Audi\", \"A8\", 2020)\n",
    "a8.variant(\"Sports Car\")"
   ]
  },
  {
   "cell_type": "markdown",
   "metadata": {},
   "source": [
    "## Declaring Child Classes"
   ]
  },
  {
   "cell_type": "markdown",
   "metadata": {},
   "source": [
    "## Sub-classing\n",
    "### Calling a constructor of the parent class by mentioning the parent class name in the declaration of the child class is known as sub-classing. A child class identifies its parent class by sub-classing."
   ]
  },
  {
   "cell_type": "code",
   "execution_count": 19,
   "metadata": {},
   "outputs": [],
   "source": [
    "##< Declaring the Child classes >##\n",
    "class Sports(Cars):\n",
    "    pass\n",
    "class Offroad(Cars):\n",
    "    pass\n",
    "class SUV(Cars):\n",
    "    pass\n",
    "class Sedan(Cars):\n",
    "    pass"
   ]
  },
  {
   "cell_type": "code",
   "execution_count": 20,
   "metadata": {},
   "outputs": [],
   "source": [
    "seltos = SUV(\"Kia\", \"Seltos\", \"2020\") ##< Instantiating a new instance via Child class >##"
   ]
  },
  {
   "cell_type": "code",
   "execution_count": 21,
   "metadata": {
    "tags": []
   },
   "outputs": [
    {
     "output_type": "stream",
     "name": "stdout",
     "text": "Seltos is one of the car models manufactured by Kia on the year 2020 \nKia\n Seltos is a SUV \n"
    }
   ],
   "source": [
    "print(seltos)\n",
    "print(seltos.brand)\n",
    "print(seltos.variant(\"SUV\"))"
   ]
  },
  {
   "cell_type": "markdown",
   "metadata": {},
   "source": [
    "### Checking which instances belongs to which classes "
   ]
  },
  {
   "cell_type": "code",
   "execution_count": 22,
   "metadata": {},
   "outputs": [
    {
     "output_type": "execute_result",
     "data": {
      "text/plain": "__main__.SUV"
     },
     "metadata": {},
     "execution_count": 22
    }
   ],
   "source": [
    "type(seltos) ##< This retuns which class that seltos instance belongs >##"
   ]
  },
  {
   "cell_type": "code",
   "execution_count": 23,
   "metadata": {},
   "outputs": [
    {
     "output_type": "execute_result",
     "data": {
      "text/plain": "True"
     },
     "metadata": {},
     "execution_count": 23
    }
   ],
   "source": [
    "isinstance(seltos, Cars) ##< This helps in checking that seltos also belongs to Cars Class >##"
   ]
  },
  {
   "cell_type": "code",
   "execution_count": 24,
   "metadata": {},
   "outputs": [
    {
     "output_type": "execute_result",
     "data": {
      "text/plain": "False"
     },
     "metadata": {},
     "execution_count": 24
    }
   ],
   "source": [
    "isinstance(seltos, Sports) ##< This is because seltos is never an instance of Sports class >##"
   ]
  },
  {
   "cell_type": "markdown",
   "metadata": {},
   "source": [
    "#### Note: All objects created from a child class are instances of the parent class, although they may not be instances of other child classes."
   ]
  },
  {
   "cell_type": "markdown",
   "metadata": {},
   "source": [
    "## Extend the Functionality of a Parent Class Using\n",
    "# Ploymorphism:\n",
    "### Polymorphism(Having many forms) allows us to define methods in the child class with the same name as defined in their parent class."
   ]
  },
  {
   "cell_type": "markdown",
   "metadata": {},
   "source": [
    "## 1. Using Method Overriding\n",
    "### To override a method defined on the parent class, you define a method with the same name on the child class."
   ]
  },
  {
   "cell_type": "code",
   "execution_count": 25,
   "metadata": {},
   "outputs": [],
   "source": [
    "##< Method Over-riding of one Form >##\n",
    "\n",
    "class Sports(Cars):\n",
    "    def variant(self, varirant = \"Sports Car\"):\n",
    "        return F\" {self.model} is a {varirant} \"\n",
    "class Offroad(Cars):\n",
    "    def variant(self, varirant = \"Offroad Car\"):\n",
    "        return F\" {self.model} is a {varirant} \"\n",
    "class SUV(Cars):\n",
    "    def variant(self, varirant = \"SUV\"):\n",
    "        return F\" {self.model} is a {varirant} \"\n",
    "class Sedan(Cars):\n",
    "    def variant(self, varirant = \"Sedan\"):\n",
    "        return F\" {self.model} is a {varirant} \""
   ]
  },
  {
   "cell_type": "code",
   "execution_count": 26,
   "metadata": {},
   "outputs": [],
   "source": [
    "##< Method Over-riding of another Form >##\n",
    "\n",
    "class Coupe(Cars):\n",
    "    def variant(self):\n",
    "        return F\" {self.model} is a Coupe \"\n",
    "M8 = Coupe(\"BMW\", \"M8\", 2020)"
   ]
  },
  {
   "cell_type": "code",
   "execution_count": 27,
   "metadata": {},
   "outputs": [],
   "source": [
    "A8 = Sports(\"Audi\", \"A8\", 2020)"
   ]
  },
  {
   "cell_type": "code",
   "execution_count": 28,
   "metadata": {
    "tags": []
   },
   "outputs": [
    {
     "output_type": "stream",
     "name": "stdout",
     "text": "A8 is a Sports Car \n"
    }
   ],
   "source": [
    "print(A8.variant())"
   ]
  },
  {
   "cell_type": "markdown",
   "metadata": {},
   "source": [
    "## 2. Using Super() method"
   ]
  },
  {
   "cell_type": "code",
   "execution_count": 29,
   "metadata": {},
   "outputs": [],
   "source": [
    "class Sports(Cars):\n",
    "    def variant(self, varirant = \"Sports Car\"):\n",
    "        return super().variant(varirant)\n",
    "class Offroad(Cars):\n",
    "    def variant(self, varirant = \"Offroad Car\"):\n",
    "        return super().variant(varirant)\n",
    "class SUV(Cars):\n",
    "    def variant(self, varirant = \"SUV\"):\n",
    "        return super().variant(varirant)\n",
    "class Sedan(Cars):\n",
    "    def variant(self, varirant = \"Sedan\"):\n",
    "        return super().variant(varirant)"
   ]
  },
  {
   "cell_type": "code",
   "execution_count": 30,
   "metadata": {},
   "outputs": [],
   "source": [
    "verna = Sedan(\"Hyundai\", \"Verna\", 2020)"
   ]
  },
  {
   "cell_type": "code",
   "execution_count": 31,
   "metadata": {
    "tags": []
   },
   "outputs": [
    {
     "output_type": "stream",
     "name": "stdout",
     "text": "Verna is a Sedan \n"
    }
   ],
   "source": [
    "print(verna.variant())"
   ]
  },
  {
   "cell_type": "code",
   "execution_count": 32,
   "metadata": {
    "tags": []
   },
   "outputs": [
    {
     "output_type": "stream",
     "name": "stdout",
     "text": "M8 is a Coupe \n"
    }
   ],
   "source": [
    "print(M8.variant())"
   ]
  },
  {
   "cell_type": "markdown",
   "metadata": {},
   "source": [
    "## Types of Inheritance\n",
    "### 1. Single Inheritance\n",
    "### 2. Multiple Inheritance\n",
    "### 3. Multilevel Inheritance\n",
    "### 4. Hierarchical Inheritance\n",
    "### 5. Hybrid Inheritance"
   ]
  },
  {
   "cell_type": "markdown",
   "metadata": {},
   "source": [
    "## 1. Single Inheritance\n",
    "### When a child class inherits only a single parent class."
   ]
  },
  {
   "cell_type": "code",
   "execution_count": 33,
   "metadata": {
    "tags": []
   },
   "outputs": [
    {
     "output_type": "stream",
     "name": "stdout",
     "text": "This is the Function of the parent\nThis is the Function of the child\n"
    }
   ],
   "source": [
    "class Parent:\n",
    "    def Func1(self):\n",
    "        print(\"This is the Function of the parent\")\n",
    "    \n",
    "class Child(Parent):\n",
    "    def Func2(self):\n",
    "        print(\"This is the Function of the child\")\n",
    "\n",
    "a = Child()\n",
    "a.Func1()\n",
    "a.Func2()"
   ]
  },
  {
   "cell_type": "markdown",
   "metadata": {},
   "source": [
    "## 2. Multiple Inheritance\n",
    "### When a single child class inherits from more than one parent class."
   ]
  },
  {
   "cell_type": "code",
   "execution_count": 34,
   "metadata": {
    "tags": []
   },
   "outputs": [
    {
     "output_type": "stream",
     "name": "stdout",
     "text": "This is the Function of the parent 1\nThis is the Function of the parent 2\nThis is the Function of the parent 3\nThis is the Function of the child\n"
    }
   ],
   "source": [
    "class Parent1:\n",
    "    def Func1(self):\n",
    "        print(\"This is the Function of the parent 1\")\n",
    "\n",
    "class Parent2:\n",
    "    def Func2(self):\n",
    "        print(\"This is the Function of the parent 2\")\n",
    "\n",
    "class Parent3:\n",
    "    def Func3(self):\n",
    "        print(\"This is the Function of the parent 3\")\n",
    "\n",
    "class Child(Parent1, Parent2, Parent3):\n",
    "    def Func4(self):\n",
    "        print(\"This is the Function of the child\")\n",
    "\n",
    "a = Child()\n",
    "a.Func1()\n",
    "a.Func2()\n",
    "a.Func3()\n",
    "a.Func4()"
   ]
  },
  {
   "cell_type": "markdown",
   "metadata": {},
   "source": [
    "## 3. Multilevel Inheritance\n",
    "### When a child class itself becomes a parent for another child class"
   ]
  },
  {
   "cell_type": "code",
   "execution_count": 35,
   "metadata": {
    "tags": []
   },
   "outputs": [
    {
     "output_type": "stream",
     "name": "stdout",
     "text": "This is the Function of the parent 1\nThis is the Function of the Child 1\nThis is the Function of the Child 2\nThis is the Function of the child 3\n"
    }
   ],
   "source": [
    "class Parent:\n",
    "    def Func1(self):\n",
    "        print(\"This is the Function of the parent 1\")\n",
    "\n",
    "class Child1(Parent):\n",
    "    def Func2(self):\n",
    "        print(\"This is the Function of the Child 1\")\n",
    "\n",
    "class Child2(Child1):\n",
    "    def Func3(self):\n",
    "        print(\"This is the Function of the Child 2\")\n",
    "\n",
    "class Child3(Child2):\n",
    "    def Func4(self):\n",
    "        print(\"This is the Function of the child 3\")\n",
    "\n",
    "a = Child3()\n",
    "a.Func1()\n",
    "a.Func2()\n",
    "a.Func3()\n",
    "a.Func4()"
   ]
  },
  {
   "cell_type": "markdown",
   "metadata": {},
   "source": [
    "## 4. Hierarchical Inheritance\n",
    "### When two are more child classes inherit from a single parent class"
   ]
  },
  {
   "cell_type": "code",
   "execution_count": 36,
   "metadata": {
    "tags": []
   },
   "outputs": [
    {
     "output_type": "stream",
     "name": "stdout",
     "text": "This is the Function of the parent 1\nThis is the Function of the Child 1\nThis is the Function of the parent 1\nThis is the Function of the Child 2\n"
    }
   ],
   "source": [
    "class Parent:\n",
    "    def Func1(self):\n",
    "        print(\"This is the Function of the parent 1\")\n",
    "\n",
    "class Child1(Parent):\n",
    "    def Func2(self):\n",
    "        print(\"This is the Function of the Child 1\")\n",
    "\n",
    "class Child2(Parent):\n",
    "    def Func3(self):\n",
    "        print(\"This is the Function of the Child 2\")\n",
    "\n",
    "a = Child1()\n",
    "b = Child2()\n",
    "a.Func1()\n",
    "a.Func2()\n",
    "b.Func1()\n",
    "b.Func3()"
   ]
  },
  {
   "cell_type": "markdown",
   "metadata": {},
   "source": [
    "## 5. Hybrid Inheritance\n",
    "### Hybrid inheritance is a combination of more than one type of inheritance.\n"
   ]
  },
  {
   "cell_type": "code",
   "execution_count": 37,
   "metadata": {
    "tags": []
   },
   "outputs": [
    {
     "output_type": "stream",
     "name": "stdout",
     "text": "This is the Function of the parent 1\nThis is the Function of the Child 1\nThis is the Function of the Child 2\nThis is the Function of the Kid\nThis is the Function of the Child 3\n"
    }
   ],
   "source": [
    "class Parent:\n",
    "    def Func1(self):\n",
    "        print(\"This is the Function of the parent 1\")\n",
    "\n",
    "class Child1(Parent):\n",
    "    def Func2(self):\n",
    "        print(\"This is the Function of the Child 1\")\n",
    "\n",
    "class Child2(Child1):\n",
    "    def Func3(self):\n",
    "        print(\"This is the Function of the Child 2\")\n",
    "\n",
    "class Kid:\n",
    "    def Func4(self):\n",
    "        print(\"This is the Function of the Kid\")\n",
    "\n",
    "class Child3(Kid, Child2):\n",
    "    def Func5(self):\n",
    "        print(\"This is the Function of the Child 3\")\n",
    "\n",
    "a = Child3()\n",
    "a.Func1()   ##< Here the Child1 & Child2 are Multilevel inheritance of a Parent Class >##\n",
    "a.Func2()   ##< Kid class is separate class >##\n",
    "a.Func3()   ##< Child3 is the Hybrid of the Multilevel inheritance and the Kid class >##\n",
    "a.Func4()\n",
    "a.Func5()"
   ]
  },
  {
   "cell_type": "markdown",
   "metadata": {},
   "source": [
    "# Encapsulation\n",
    "### Encapsulation restrict access to methods and variables. This prevents data from direct modification.\n",
    "### It can be achieved by using Private variables (i.e via Getters and setters)."
   ]
  },
  {
   "cell_type": "markdown",
   "metadata": {},
   "source": [
    "## Private variables"
   ]
  },
  {
   "cell_type": "code",
   "execution_count": 38,
   "metadata": {},
   "outputs": [],
   "source": [
    "##< We can restrict accessing the attributes and methods outside the class by the making the private but they can be accessed within the class >##\n",
    "class Person:\n",
    "    def __init__(self, first, last, age):\n",
    "        self.__first = first ##< Here the double underscore is used to declare a private variable >##\n",
    "        self.__last = last\n",
    "        self._age = age    \n",
    "##< The single underscore is just an convection to indicate the fellow programmer that the variable is private and shouldn't be changed yet it can be accessed and changed >##\n",
    "\n",
    "    def fullname(self):\n",
    "        return F\"{self.__first} {self.__last}\"\n"
   ]
  },
  {
   "cell_type": "code",
   "execution_count": 39,
   "metadata": {},
   "outputs": [],
   "source": [
    "Max = Person(\"Max\", \"Rocker\", 22) ##< Creating a new instance >##"
   ]
  },
  {
   "cell_type": "code",
   "execution_count": 40,
   "metadata": {},
   "outputs": [
    {
     "output_type": "execute_result",
     "data": {
      "text/plain": "'Max Rocker'"
     },
     "metadata": {},
     "execution_count": 40
    }
   ],
   "source": [
    "Max.fullname()"
   ]
  },
  {
   "cell_type": "code",
   "execution_count": 41,
   "metadata": {},
   "outputs": [
    {
     "output_type": "error",
     "ename": "AttributeError",
     "evalue": "'Person' object has no attribute '__first'",
     "traceback": [
      "\u001b[1;31m---------------------------------------------------------------------------\u001b[0m",
      "\u001b[1;31mAttributeError\u001b[0m                            Traceback (most recent call last)",
      "\u001b[1;32m<ipython-input-41-43809903278c>\u001b[0m in \u001b[0;36m<module>\u001b[1;34m\u001b[0m\n\u001b[1;32m----> 1\u001b[1;33m \u001b[0mprint\u001b[0m\u001b[1;33m(\u001b[0m\u001b[0mMax\u001b[0m\u001b[1;33m.\u001b[0m\u001b[0m__first\u001b[0m\u001b[1;33m)\u001b[0m \u001b[1;31m##< The private variable doesn't exist outside the class so throws an error >##\u001b[0m\u001b[1;33m\u001b[0m\u001b[1;33m\u001b[0m\u001b[0m\n\u001b[0m",
      "\u001b[1;31mAttributeError\u001b[0m: 'Person' object has no attribute '__first'"
     ]
    }
   ],
   "source": [
    "print(Max.__first) ##< The private variable doesn't exist outside the class so throws an error >##"
   ]
  },
  {
   "cell_type": "code",
   "execution_count": 42,
   "metadata": {
    "tags": []
   },
   "outputs": [
    {
     "output_type": "stream",
     "name": "stdout",
     "text": "22\n24\n"
    }
   ],
   "source": [
    "print(Max._age) ##< As \"_\" is just a convention it can be accessed outside and can be changed >##\n",
    "Max._age = 24\n",
    "print(Max._age)"
   ]
  },
  {
   "cell_type": "markdown",
   "metadata": {},
   "source": [
    "## Using Getters and Setters\n",
    "### Getters:- These are the methods which helps to access the private attributes from a class.\n",
    "### Setters:- These are the methods which helps to set the value to private attributes in a class."
   ]
  },
  {
   "cell_type": "code",
   "execution_count": 43,
   "metadata": {},
   "outputs": [],
   "source": [
    "class Person:\n",
    "    def __init__(self, first, last, age):\n",
    "        self.__first = first\n",
    "        self.__last = last\n",
    "        self._age = age    \n",
    "    \n",
    "    def get_first(self):    ##< Using a getter we can access the private variable >##\n",
    "        return self.__first\n",
    "    def get_last(self):\n",
    "        return self.__last\n",
    "    def set_first(self, first): ##< Using a setter we can change the private variable >##\n",
    "        self.__first = first\n",
    "    def set_last(self, last):\n",
    "        self.__last = last\n",
    "        \n",
    "    def fullname(self):\n",
    "        return F\"{self.__first} {self.__last}\""
   ]
  },
  {
   "cell_type": "code",
   "execution_count": 44,
   "metadata": {},
   "outputs": [],
   "source": [
    "Mike = Person(\"Mike\", \"Johnson\", 32)"
   ]
  },
  {
   "cell_type": "code",
   "execution_count": 45,
   "metadata": {
    "tags": []
   },
   "outputs": [
    {
     "output_type": "stream",
     "name": "stdout",
     "text": "Mike\nJohnson\nMike Johnson\n"
    }
   ],
   "source": [
    "print(Mike.get_first())\n",
    "print(Mike.get_last())\n",
    "print(Mike.fullname())"
   ]
  },
  {
   "cell_type": "code",
   "execution_count": 46,
   "metadata": {},
   "outputs": [],
   "source": [
    "Mike.set_first(\"Michael\")\n",
    "Mike.set_last(\"John\")"
   ]
  },
  {
   "cell_type": "code",
   "execution_count": 47,
   "metadata": {
    "tags": []
   },
   "outputs": [
    {
     "output_type": "stream",
     "name": "stdout",
     "text": "Michael\nJohn\nMichael John\n"
    }
   ],
   "source": [
    "print(Mike.get_first())\n",
    "print(Mike.get_last())\n",
    "print(Mike.fullname())"
   ]
  },
  {
   "cell_type": "markdown",
   "metadata": {},
   "source": [
    "#### Note:- The Getters and Setters maybe useful in many applications but it's not \"The Pythonic Way\" of getting things done. Python doesn't hide the data. It doesn't implement any encapsulation feature by default."
   ]
  },
  {
   "cell_type": "markdown",
   "metadata": {},
   "source": [
    "## Decorators\n",
    "### Decorator is a function that takes another function and extends the behavior of the latter function without explicitly modifying it."
   ]
  },
  {
   "cell_type": "code",
   "execution_count": 48,
   "metadata": {},
   "outputs": [],
   "source": [
    "class Person:\n",
    "    def __init__(self, first, last, age):\n",
    "        self.__first = first\n",
    "        self.__last = last\n",
    "        self._age = age    \n",
    "\n",
    "    @property ##< This is one of the decorator the change the Method into an Attibute >##\n",
    "    def fullname(self):\n",
    "        return F\"{self.__first} {self.__last}\""
   ]
  },
  {
   "cell_type": "code",
   "execution_count": 49,
   "metadata": {},
   "outputs": [],
   "source": [
    "Alex = Person(\"Alex\", \"Wilson\", 27)"
   ]
  },
  {
   "cell_type": "code",
   "execution_count": 50,
   "metadata": {},
   "outputs": [
    {
     "output_type": "execute_result",
     "data": {
      "text/plain": "'Alex Wilson'"
     },
     "metadata": {},
     "execution_count": 50
    }
   ],
   "source": [
    "Alex.fullname ##< We can access the method like an Attribute without \"()\" >##"
   ]
  },
  {
   "cell_type": "markdown",
   "metadata": {},
   "source": [
    "## Getters and Setters via Decorators"
   ]
  },
  {
   "cell_type": "code",
   "execution_count": 51,
   "metadata": {},
   "outputs": [],
   "source": [
    "class Person:\n",
    "    def __init__(self, first, last, age):\n",
    "        self.__first = first\n",
    "        self.__last = last\n",
    "        self._age = age    \n",
    "\n",
    "    @property\n",
    "    def fullname(self):\n",
    "        return F\"{self.__first} {self.__last}\"\n",
    "\n",
    "    @fullname.setter\n",
    "    def fullname(self, name):\n",
    "        first, last = name.split(\" \")\n",
    "        self.__first = first\n",
    "        self.__last = last"
   ]
  },
  {
   "cell_type": "code",
   "execution_count": 52,
   "metadata": {},
   "outputs": [],
   "source": [
    "person1 = Person(\"Adam\", \"Jacobs\", 30)"
   ]
  },
  {
   "cell_type": "code",
   "execution_count": 53,
   "metadata": {
    "tags": []
   },
   "outputs": [
    {
     "output_type": "stream",
     "name": "stdout",
     "text": "{'_Person__first': 'Adam', '_Person__last': 'Jacobs', '_age': 30}\nAdam Jacobs\n"
    }
   ],
   "source": [
    "print(person1.__dict__)\n",
    "print(person1.fullname)"
   ]
  },
  {
   "cell_type": "code",
   "execution_count": 54,
   "metadata": {},
   "outputs": [],
   "source": [
    "person1.fullname = \"Jo Longson\""
   ]
  },
  {
   "cell_type": "code",
   "execution_count": 55,
   "metadata": {
    "tags": []
   },
   "outputs": [
    {
     "output_type": "stream",
     "name": "stdout",
     "text": "{'_Person__first': 'Jo', '_Person__last': 'Longson', '_age': 30}\nJo Longson\n"
    }
   ],
   "source": [
    "print(person1.__dict__)\n",
    "print(person1.fullname)"
   ]
  },
  {
   "cell_type": "markdown",
   "metadata": {},
   "source": [
    "## Abstraction\n",
    "### Abstraction is a mechanism which represent the essential features without including implementation details.\n",
    "### Python by default doesn't support Abstraction but we can implement it by a module called \"abc\""
   ]
  },
  {
   "cell_type": "markdown",
   "metadata": {},
   "source": [
    "## Abstract class\n",
    "### An abstract class is a class that contains one or more abstract methods. An Abstract method is a method that generally doesn’t have any implementation, it is left to the sub classes to provide implementation for the abstract methods."
   ]
  },
  {
   "cell_type": "code",
   "execution_count": 56,
   "metadata": {},
   "outputs": [],
   "source": [
    "from abc import ABC, abstractmethod ##< Importing the abc module >##"
   ]
  },
  {
   "cell_type": "code",
   "execution_count": 57,
   "metadata": {},
   "outputs": [],
   "source": [
    "class School(ABC):\n",
    "    def __init__(self, name, reg):\n",
    "        self.name = name\n",
    "        self.reg = reg\n",
    "\n",
    "    @abstractmethod ##< Abstract is declared using this abstractmethod decorator >##\n",
    "    def info(self): ##< This is the Abstract method and it doesn't have any implementation >##\n",
    "        pass\n",
    "\n",
    "class Student(School):\n",
    "    def info(self):\n",
    "        return F\"{self.name} is a student of XYZ School\"\n",
    "\n",
    "class Teacher(School):\n",
    "    def info(self):\n",
    "        return F\"{self.name} is a teacher of XYZ School\""
   ]
  },
  {
   "cell_type": "code",
   "execution_count": 58,
   "metadata": {},
   "outputs": [],
   "source": [
    "ash = Student(\"Ash\", 101)"
   ]
  },
  {
   "cell_type": "code",
   "execution_count": 59,
   "metadata": {},
   "outputs": [
    {
     "output_type": "execute_result",
     "data": {
      "text/plain": "'Ash is a student of XYZ School'"
     },
     "metadata": {},
     "execution_count": 59
    }
   ],
   "source": [
    "ash.info()"
   ]
  },
  {
   "cell_type": "code",
   "execution_count": 60,
   "metadata": {},
   "outputs": [],
   "source": [
    "iggy = Teacher(\"Iggy\", \"Te01\")"
   ]
  },
  {
   "cell_type": "code",
   "execution_count": 61,
   "metadata": {},
   "outputs": [
    {
     "output_type": "execute_result",
     "data": {
      "text/plain": "'Iggy is a teacher of XYZ School'"
     },
     "metadata": {},
     "execution_count": 61
    }
   ],
   "source": [
    "iggy.info()"
   ]
  },
  {
   "cell_type": "markdown",
   "metadata": {},
   "source": [
    "# References:-\n",
    "\n",
    "### Object-Oriented Programming (OOP) in Python 3:\n",
    "### https://realpython.com/python3-object-oriented-programming/\n",
    "### Object Oriented Programming Python - All you need to know: \n",
    "### https://www.edureka.co/blog/object-oriented-programming-python/ \n",
    "### Corey Schafer - Python OOP Tutorials working with classes: \n",
    "### https://www.youtube.com/playlist?list=PL-osiE80TeTsqhIuOqKhwlXsIBIdSeYtc\n",
    "### Python Object Oriented Programming: \n",
    "### https://www.programiz.com/python-programming/object-oriented-programming\n",
    "### Object-Oriented Programming in Python:\n",
    "### https://python-textbok.readthedocs.io/en/1.0/#object-oriented-programming-in-python\n",
    "### Property vs. Getters and Setters in Python:\n",
    "### https://www.datacamp.com/community/tutorials/property-getters-setters\n",
    "### Abstract Class in Python:\n",
    "### https://www.netjstech.com/2019/05/abstract-class-in-python.html\n",
    "### Other References: \n",
    "### https://medium.com/@manjuladube/encapsulation-abstraction-35999b0a3911\n",
    "### https://docs.python.org/3/tutorial/classes.html?highlight=classes"
   ]
  },
  {
   "cell_type": "code",
   "execution_count": null,
   "metadata": {},
   "outputs": [],
   "source": []
  }
 ]
}